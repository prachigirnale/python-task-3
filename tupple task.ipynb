{
 "cells": [
  {
   "cell_type": "markdown",
   "id": "eacc55a0-2753-41c7-850b-1941bd2b7fb0",
   "metadata": {},
   "source": [
    "# Python Tuples"
   ]
  },
  {
   "cell_type": "raw",
   "id": "97682f56-50dd-4456-bd6b-c79e1ee8fa0b",
   "metadata": {},
   "source": [
    "* Tuples are used to store multiple items in a single variable.\n",
    "  A tuple is a collection which is ordered and unchangeable.\n",
    "  Tuples are written with round brackets\n"
   ]
  },
  {
   "cell_type": "raw",
   "id": "5e46a5f3-692d-46d4-8a4f-ca0603b83ca0",
   "metadata": {},
   "source": [
    "* example 1"
   ]
  },
  {
   "cell_type": "code",
   "execution_count": 2,
   "id": "3005c708-55fa-4d91-bedd-afb20bf0d285",
   "metadata": {},
   "outputs": [
    {
     "name": "stdout",
     "output_type": "stream",
     "text": [
      "('apple', 'banana', 'cherry')\n"
     ]
    }
   ],
   "source": [
    "thistuple = (\"apple\", \"banana\", \"cherry\")\n",
    "print(thistuple)"
   ]
  },
  {
   "cell_type": "raw",
   "id": "c5fef856-9d50-47f1-ad24-044c30d337d5",
   "metadata": {},
   "source": [
    "* example 2"
   ]
  },
  {
   "cell_type": "code",
   "execution_count": 6,
   "id": "87968d9a-7289-4934-860c-1fbe340f256c",
   "metadata": {},
   "outputs": [
    {
     "name": "stdout",
     "output_type": "stream",
     "text": [
      "('apple', 'banana', 'cherry', 'apple', 'cherry')\n"
     ]
    }
   ],
   "source": [
    "thistuple = (\"apple\", \"banana\", \"cherry\", \"apple\", \"cherry\")\n",
    "print(thistuple)"
   ]
  },
  {
   "cell_type": "raw",
   "id": "a621cf1b-3cf9-4629-b6e0-192dc7b9f991",
   "metadata": {},
   "source": [
    "* example 3"
   ]
  },
  {
   "cell_type": "code",
   "execution_count": 10,
   "id": "ad1f6a6a-e478-470e-9d13-391e77379685",
   "metadata": {},
   "outputs": [
    {
     "name": "stdout",
     "output_type": "stream",
     "text": [
      "3\n"
     ]
    }
   ],
   "source": [
    "thistuple = (\"apple\", \"banana\", \"cherry\")\n",
    "print(len(thistuple))"
   ]
  },
  {
   "cell_type": "raw",
   "id": "bfbaf801-baae-4a2d-b015-65c48ee618a2",
   "metadata": {},
   "source": [
    "* example 4"
   ]
  },
  {
   "cell_type": "code",
   "execution_count": 12,
   "id": "4a005e84-159f-4de8-924b-79adde1ad5cb",
   "metadata": {},
   "outputs": [
    {
     "name": "stdout",
     "output_type": "stream",
     "text": [
      "<class 'tuple'>\n"
     ]
    }
   ],
   "source": [
    "thistuple = (\"apple\",)\n",
    "print(type(thistuple))\n"
   ]
  },
  {
   "cell_type": "raw",
   "id": "c1fabb49-104c-4a6e-90ba-e3abc2ccb288",
   "metadata": {},
   "source": [
    "* example 5 "
   ]
  },
  {
   "cell_type": "code",
   "execution_count": 14,
   "id": "0b05e3d3-2901-49ee-b3c4-7997efa2d902",
   "metadata": {},
   "outputs": [
    {
     "name": "stdout",
     "output_type": "stream",
     "text": [
      "<class 'str'>\n"
     ]
    }
   ],
   "source": [
    "thistuple = (\"apple\")\n",
    "print(type(thistuple))"
   ]
  },
  {
   "cell_type": "raw",
   "id": "4f719ad3-4f8b-4a4e-9372-fd03ecb89726",
   "metadata": {},
   "source": [
    "* example 6"
   ]
  },
  {
   "cell_type": "code",
   "execution_count": 20,
   "id": "e3706c95-40a0-4dca-818f-0cd48468aa84",
   "metadata": {},
   "outputs": [
    {
     "name": "stdout",
     "output_type": "stream",
     "text": [
      "<class 'tuple'>\n"
     ]
    }
   ],
   "source": [
    "tuple1 = (\"abc\", 34, True, 40, \"male\")\n",
    "print(type(tuple1))"
   ]
  },
  {
   "cell_type": "raw",
   "id": "2872b850-e0dd-448a-bfd3-79836059c862",
   "metadata": {},
   "source": [
    "* example 7"
   ]
  },
  {
   "cell_type": "code",
   "execution_count": 22,
   "id": "48a621c0-8483-430b-9523-c2431e75bb0d",
   "metadata": {},
   "outputs": [
    {
     "name": "stdout",
     "output_type": "stream",
     "text": [
      "(1, 2, -5)\n"
     ]
    }
   ],
   "source": [
    "numbers = (1, 2, -5)\n",
    "print(numbers)"
   ]
  },
  {
   "cell_type": "raw",
   "id": "63d062ef-bc54-4e62-8fc1-3238afd9af38",
   "metadata": {},
   "source": [
    "* example 8"
   ]
  },
  {
   "cell_type": "code",
   "execution_count": 26,
   "id": "fdc86c92-623d-4edb-a52b-898e07ba5bc7",
   "metadata": {},
   "outputs": [
    {
     "name": "stdout",
     "output_type": "stream",
     "text": [
      "Python\n"
     ]
    }
   ],
   "source": [
    "languages = ('Python', 'Swift', 'C++')\n",
    "print(languages[0])  "
   ]
  },
  {
   "cell_type": "code",
   "execution_count": 32,
   "id": "ef6bb445-b8cc-44df-9a8b-cb0a857a78d4",
   "metadata": {},
   "outputs": [
    {
     "name": "stdout",
     "output_type": "stream",
     "text": [
      "C++\n"
     ]
    }
   ],
   "source": [
    "languages = ('Python', 'Swift', 'C++')\n",
    "print(languages[2])"
   ]
  },
  {
   "cell_type": "code",
   "execution_count": 34,
   "id": "df0dc91c-88c3-4a8a-a4db-8079c00fda94",
   "metadata": {},
   "outputs": [
    {
     "name": "stdout",
     "output_type": "stream",
     "text": [
      "Swift\n"
     ]
    }
   ],
   "source": [
    "languages = ('Python', 'Swift', 'C++')\n",
    "print(languages[1])"
   ]
  },
  {
   "cell_type": "raw",
   "id": "e7a5aec6-6e7b-416b-b026-7ae0348002e6",
   "metadata": {},
   "source": [
    "* example 9"
   ]
  },
  {
   "cell_type": "code",
   "execution_count": 36,
   "id": "e9c22a68-4ce3-42dd-8f32-cea2703155e1",
   "metadata": {},
   "outputs": [
    {
     "name": "stdout",
     "output_type": "stream",
     "text": [
      "Total Items: 4\n"
     ]
    }
   ],
   "source": [
    "cars = ('BMW', 'Tesla', 'Ford', 'Toyota')\n",
    "print('Total Items:', len(cars))"
   ]
  },
  {
   "cell_type": "code",
   "execution_count": null,
   "id": "b7ac72df-24e1-4e97-8595-7812ae9e5c6c",
   "metadata": {},
   "outputs": [],
   "source": []
  }
 ],
 "metadata": {
  "kernelspec": {
   "display_name": "Python 3 (ipykernel)",
   "language": "python",
   "name": "python3"
  },
  "language_info": {
   "codemirror_mode": {
    "name": "ipython",
    "version": 3
   },
   "file_extension": ".py",
   "mimetype": "text/x-python",
   "name": "python",
   "nbconvert_exporter": "python",
   "pygments_lexer": "ipython3",
   "version": "3.12.4"
  }
 },
 "nbformat": 4,
 "nbformat_minor": 5
}
