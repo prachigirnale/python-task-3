{
 "cells": [
  {
   "cell_type": "markdown",
   "id": "cd238841-a063-48c5-b2a8-a8058b6ba6a9",
   "metadata": {},
   "source": [
    "# list of Method "
   ]
  },
  {
   "cell_type": "markdown",
   "id": "9ece4473-0759-4a11-9fec-4cb14a7b36aa",
   "metadata": {},
   "source": [
    "# (1) Python List append() Method\n",
    "* The append() method appends an element to the end of the list\n",
    "* https://www.w3schools.com/python/ref_list_append.asp\n",
    "* Syntax : list.append(elmnt)\r\n",
    "\r\n"
   ]
  },
  {
   "cell_type": "raw",
   "id": "64544fbe-4cee-44ef-8598-9152ae58a37e",
   "metadata": {},
   "source": [
    "# example 1"
   ]
  },
  {
   "cell_type": "markdown",
   "id": "90330646-fc62-46d8-be5c-6995e6b82c9e",
   "metadata": {},
   "source": [
    "a = [\"apple\", \"banana\", \"cherry\"]"
   ]
  },
  {
   "cell_type": "code",
   "execution_count": 9,
   "id": "08101996-1cc4-4659-acf5-66afb99dff7a",
   "metadata": {},
   "outputs": [
    {
     "data": {
      "text/plain": [
       "['apple', 'banana', 'cherry']"
      ]
     },
     "execution_count": 9,
     "metadata": {},
     "output_type": "execute_result"
    }
   ],
   "source": [
    "a"
   ]
  },
  {
   "cell_type": "code",
   "execution_count": 11,
   "id": "faeca1d6-b45a-419f-a119-3648a529f53c",
   "metadata": {},
   "outputs": [],
   "source": [
    "b = [\"orange\", \"banana\", \"cherry\"]"
   ]
  },
  {
   "cell_type": "code",
   "execution_count": 13,
   "id": "ec02a254-d998-4018-bbd0-1eeaa749bf97",
   "metadata": {},
   "outputs": [
    {
     "data": {
      "text/plain": [
       "['orange', 'banana', 'cherry']"
      ]
     },
     "execution_count": 13,
     "metadata": {},
     "output_type": "execute_result"
    }
   ],
   "source": [
    "b"
   ]
  },
  {
   "cell_type": "code",
   "execution_count": 30,
   "id": "7283b572-74b8-4390-af15-a7611dc30574",
   "metadata": {},
   "outputs": [],
   "source": [
    "a.append(b)"
   ]
  },
  {
   "cell_type": "code",
   "execution_count": 36,
   "id": "b0a5fa10-6ce6-406a-b6f4-74d7ce0e6cc3",
   "metadata": {},
   "outputs": [
    {
     "name": "stdout",
     "output_type": "stream",
     "text": [
      "['apple', 'banana', 'cherry', ['orange', 'banana', 'cherry'], ['orange', 'banana', 'cherry'], ['orange', 'banana', 'cherry'], ['orange', 'banana', 'cherry']]\n"
     ]
    }
   ],
   "source": [
    "print(a)"
   ]
  },
  {
   "cell_type": "code",
   "execution_count": null,
   "id": "c0ce3aea-7b1e-4162-9d70-50d8fe1c28c6",
   "metadata": {},
   "outputs": [],
   "source": []
  },
  {
   "cell_type": "markdown",
   "id": "4b250300-afb7-4737-9a2b-948368c3521a",
   "metadata": {},
   "source": [
    "# (2) Python List clear() Method\n",
    "* The clear() method removes all the elements from a list\n",
    "* https://www.w3schools.com/python/ref_list_clear.asp\n",
    "* Syntax : list.clear()"
   ]
  },
  {
   "cell_type": "raw",
   "id": "b28d6d70-a0a2-4f68-88f6-a2f053f2a73c",
   "metadata": {},
   "source": [
    "# example 1"
   ]
  },
  {
   "cell_type": "code",
   "execution_count": 41,
   "id": "28f8035c-04da-4a12-ad07-96eb2c04f766",
   "metadata": {},
   "outputs": [],
   "source": [
    "fruits = ['apple', 'banana', 'cherry', 'orange']\n"
   ]
  },
  {
   "cell_type": "code",
   "execution_count": 43,
   "id": "7c72a405-3dea-4ae3-ad49-c1631d87ad32",
   "metadata": {},
   "outputs": [
    {
     "data": {
      "text/plain": [
       "['apple', 'banana', 'cherry', 'orange']"
      ]
     },
     "execution_count": 43,
     "metadata": {},
     "output_type": "execute_result"
    }
   ],
   "source": [
    "fruits"
   ]
  },
  {
   "cell_type": "code",
   "execution_count": 45,
   "id": "c368044e-2a88-4290-9e71-587590a1f179",
   "metadata": {},
   "outputs": [],
   "source": [
    "fruits.clear()"
   ]
  },
  {
   "cell_type": "code",
   "execution_count": 47,
   "id": "4ccec920-b1b1-4d5b-979f-43bab502a2a6",
   "metadata": {},
   "outputs": [
    {
     "data": {
      "text/plain": [
       "[]"
      ]
     },
     "execution_count": 47,
     "metadata": {},
     "output_type": "execute_result"
    }
   ],
   "source": [
    "fruits"
   ]
  },
  {
   "cell_type": "raw",
   "id": "ee7fd624-4a4a-42ee-9457-858b9922ab09",
   "metadata": {},
   "source": [
    "# example 2"
   ]
  },
  {
   "cell_type": "code",
   "execution_count": 49,
   "id": "71b33d3d-55c9-490f-a12c-766689f22bba",
   "metadata": {},
   "outputs": [],
   "source": [
    "name = ['prachi', 'amit', 'shreya', 'ram']"
   ]
  },
  {
   "cell_type": "code",
   "execution_count": 51,
   "id": "6df0ad36-c2a8-4139-8060-23bb8f7ae886",
   "metadata": {},
   "outputs": [
    {
     "data": {
      "text/plain": [
       "['prachi', 'amit', 'shreya', 'ram']"
      ]
     },
     "execution_count": 51,
     "metadata": {},
     "output_type": "execute_result"
    }
   ],
   "source": [
    "name"
   ]
  },
  {
   "cell_type": "code",
   "execution_count": 53,
   "id": "ac2f2bc8-1515-4493-9964-8bd0a98e6a53",
   "metadata": {},
   "outputs": [],
   "source": [
    "name.clear()"
   ]
  },
  {
   "cell_type": "code",
   "execution_count": 55,
   "id": "4b83fbaa-1875-4f8d-92d7-d0197a8711d7",
   "metadata": {},
   "outputs": [
    {
     "data": {
      "text/plain": [
       "[]"
      ]
     },
     "execution_count": 55,
     "metadata": {},
     "output_type": "execute_result"
    }
   ],
   "source": [
    "name"
   ]
  },
  {
   "cell_type": "code",
   "execution_count": null,
   "id": "013f807a-3ac0-4b15-ba86-886ea40055a4",
   "metadata": {},
   "outputs": [],
   "source": []
  },
  {
   "cell_type": "markdown",
   "id": "8ecc9098-9ebe-4b15-93f0-eaf1034f1a14",
   "metadata": {},
   "source": [
    "# (3) Python List copy() Method\n",
    "* The copy() method returns a copy of the specified list\n",
    "* https://www.w3schools.com/python/ref_list_copy.asp\n",
    "* Syntax : list.copy()"
   ]
  },
  {
   "cell_type": "raw",
   "id": "79f49780-ee2a-41d7-8e3a-57dc92b6dcdf",
   "metadata": {},
   "source": [
    "# example 1"
   ]
  },
  {
   "cell_type": "code",
   "execution_count": 60,
   "id": "5abae91e-cf94-4d13-b350-105a2620976d",
   "metadata": {},
   "outputs": [],
   "source": [
    "fruits = ['apple', 'banana', 'cherry', 'orange']\n"
   ]
  },
  {
   "cell_type": "code",
   "execution_count": 62,
   "id": "6b2816c0-1f98-486a-8794-565448cc4e77",
   "metadata": {},
   "outputs": [
    {
     "data": {
      "text/plain": [
       "['apple', 'banana', 'cherry', 'orange']"
      ]
     },
     "execution_count": 62,
     "metadata": {},
     "output_type": "execute_result"
    }
   ],
   "source": [
    "fruits"
   ]
  },
  {
   "cell_type": "code",
   "execution_count": 64,
   "id": "2d95a912-c836-481a-ab83-a336dafb207c",
   "metadata": {},
   "outputs": [],
   "source": [
    "x = fruits.copy()"
   ]
  },
  {
   "cell_type": "code",
   "execution_count": 68,
   "id": "0f68998a-e21e-48dc-83eb-05c941088fa6",
   "metadata": {},
   "outputs": [
    {
     "data": {
      "text/plain": [
       "['apple', 'banana', 'cherry', 'orange']"
      ]
     },
     "execution_count": 68,
     "metadata": {},
     "output_type": "execute_result"
    }
   ],
   "source": [
    "x"
   ]
  },
  {
   "cell_type": "raw",
   "id": "112be05e-1247-41b1-8eed-beedf747df71",
   "metadata": {},
   "source": [
    "# example 2"
   ]
  },
  {
   "cell_type": "code",
   "execution_count": 70,
   "id": "2387eb93-082d-468d-b851-4dfdc77004c8",
   "metadata": {},
   "outputs": [],
   "source": [
    "name = ['prachi', 'ram', 'shreya', 'shyam']"
   ]
  },
  {
   "cell_type": "code",
   "execution_count": 72,
   "id": "da86364b-520c-4de8-9953-f0fd13a2f330",
   "metadata": {},
   "outputs": [
    {
     "data": {
      "text/plain": [
       "['prachi', 'ram', 'shreya', 'shyam']"
      ]
     },
     "execution_count": 72,
     "metadata": {},
     "output_type": "execute_result"
    }
   ],
   "source": [
    "name"
   ]
  },
  {
   "cell_type": "code",
   "execution_count": 74,
   "id": "22b86234-6488-40a1-880b-9f1268a2d386",
   "metadata": {},
   "outputs": [],
   "source": [
    "x = name.copy()"
   ]
  },
  {
   "cell_type": "code",
   "execution_count": 76,
   "id": "508cf6cf-0bd1-4606-844a-1a1a8c2f3566",
   "metadata": {},
   "outputs": [
    {
     "data": {
      "text/plain": [
       "['prachi', 'ram', 'shreya', 'shyam']"
      ]
     },
     "execution_count": 76,
     "metadata": {},
     "output_type": "execute_result"
    }
   ],
   "source": [
    "x"
   ]
  },
  {
   "cell_type": "code",
   "execution_count": null,
   "id": "0d244ee5-dcc4-4f4a-a541-d71c313c6208",
   "metadata": {},
   "outputs": [],
   "source": []
  },
  {
   "cell_type": "markdown",
   "id": "c0672b7b-0e15-45e4-9f69-2a5ab43e13ca",
   "metadata": {},
   "source": [
    "# (4) Python List count() Method\n",
    "* The count() method returns the number of elements with the specified value.\n",
    "* https://www.w3schools.com/python/ref_list_count.asp\n",
    "* syntax : list.count(value)"
   ]
  },
  {
   "cell_type": "raw",
   "id": "60a0d93d-f644-4a50-b5ab-5a7fca429eb8",
   "metadata": {},
   "source": [
    "# example 1"
   ]
  },
  {
   "cell_type": "code",
   "execution_count": 79,
   "id": "fdf9d8b9-72e6-421c-a981-c7024dea2f82",
   "metadata": {},
   "outputs": [],
   "source": [
    "points = [1, 4, 2, 9, 7, 8, 9, 3, 1]\n"
   ]
  },
  {
   "cell_type": "code",
   "execution_count": 81,
   "id": "86070c4a-586d-4443-94e8-07015498a98e",
   "metadata": {},
   "outputs": [
    {
     "data": {
      "text/plain": [
       "[1, 4, 2, 9, 7, 8, 9, 3, 1]"
      ]
     },
     "execution_count": 81,
     "metadata": {},
     "output_type": "execute_result"
    }
   ],
   "source": [
    "points"
   ]
  },
  {
   "cell_type": "code",
   "execution_count": 83,
   "id": "cb54f05a-7c51-498d-9179-efd110cb7863",
   "metadata": {},
   "outputs": [],
   "source": [
    "x = points.count(9)"
   ]
  },
  {
   "cell_type": "code",
   "execution_count": 87,
   "id": "1980e8a1-1742-4da1-ab38-95f018e9c8b7",
   "metadata": {},
   "outputs": [
    {
     "data": {
      "text/plain": [
       "2"
      ]
     },
     "execution_count": 87,
     "metadata": {},
     "output_type": "execute_result"
    }
   ],
   "source": [
    "x"
   ]
  },
  {
   "cell_type": "raw",
   "id": "e82db75d-f46c-4c8b-8b5a-a9c409cc3b08",
   "metadata": {},
   "source": [
    "# example 2"
   ]
  },
  {
   "cell_type": "code",
   "execution_count": 101,
   "id": "c045dcb9-138d-45ce-b8e8-cea905373818",
   "metadata": {},
   "outputs": [],
   "source": [
    "number = [2,4, 4, 5, 6, 7, 8]\n"
   ]
  },
  {
   "cell_type": "code",
   "execution_count": 103,
   "id": "b0502911-f6ea-40e2-b115-3a42330e0f5b",
   "metadata": {},
   "outputs": [
    {
     "data": {
      "text/plain": [
       "[2, 4, 4, 5, 6, 7, 8]"
      ]
     },
     "execution_count": 103,
     "metadata": {},
     "output_type": "execute_result"
    }
   ],
   "source": [
    "number"
   ]
  },
  {
   "cell_type": "code",
   "execution_count": 105,
   "id": "f4f1801b-a55f-4119-b2d3-31e136d7a847",
   "metadata": {},
   "outputs": [],
   "source": [
    "y = number.count(4)"
   ]
  },
  {
   "cell_type": "code",
   "execution_count": 108,
   "id": "db606a4f-9d46-447f-b9e6-369f6954c0e9",
   "metadata": {},
   "outputs": [
    {
     "data": {
      "text/plain": [
       "2"
      ]
     },
     "execution_count": 108,
     "metadata": {},
     "output_type": "execute_result"
    }
   ],
   "source": [
    "y"
   ]
  },
  {
   "cell_type": "code",
   "execution_count": null,
   "id": "05a8bec9-8d59-487f-86a2-ff763109d50f",
   "metadata": {},
   "outputs": [],
   "source": []
  },
  {
   "cell_type": "markdown",
   "id": "4c4dec7b-7dd2-4999-b03b-07cdbc327b5a",
   "metadata": {},
   "source": [
    "# (5) Python List extend() Method\n",
    "* The extend() method adds the specified list elements (or any iterable) to the end of the current list\n",
    "* https://www.w3schools.com/python/ref_list_count.asp\n",
    "* Syntax : list.extend(iterable)"
   ]
  },
  {
   "cell_type": "raw",
   "id": "3fe6dbc2-2f4d-4bf3-b767-7ddff3e1dcd6",
   "metadata": {},
   "source": [
    "# example 1"
   ]
  },
  {
   "cell_type": "code",
   "execution_count": 111,
   "id": "5b4b9f74-c8a3-41ee-9c78-61a4ed632993",
   "metadata": {},
   "outputs": [],
   "source": [
    "fruits = ['apple', 'banana', 'cherry']"
   ]
  },
  {
   "cell_type": "code",
   "execution_count": 113,
   "id": "3579c964-76e2-4e03-9334-32d6a72f0b82",
   "metadata": {},
   "outputs": [
    {
     "data": {
      "text/plain": [
       "['apple', 'banana', 'cherry']"
      ]
     },
     "execution_count": 113,
     "metadata": {},
     "output_type": "execute_result"
    }
   ],
   "source": [
    "fruits"
   ]
  },
  {
   "cell_type": "code",
   "execution_count": 115,
   "id": "09c255d5-e019-4260-a603-46b8c1f93774",
   "metadata": {},
   "outputs": [],
   "source": [
    "points = (1, 4, 5, 9)"
   ]
  },
  {
   "cell_type": "code",
   "execution_count": 117,
   "id": "0f4d3708-0f9a-4114-a0dd-add2ce8a1100",
   "metadata": {},
   "outputs": [
    {
     "data": {
      "text/plain": [
       "(1, 4, 5, 9)"
      ]
     },
     "execution_count": 117,
     "metadata": {},
     "output_type": "execute_result"
    }
   ],
   "source": [
    "points"
   ]
  },
  {
   "cell_type": "code",
   "execution_count": 119,
   "id": "75104bba-50f7-4521-aa38-acefa0f163f8",
   "metadata": {},
   "outputs": [],
   "source": [
    "fruits.extend(points)"
   ]
  },
  {
   "cell_type": "code",
   "execution_count": 121,
   "id": "9b1143da-864a-4c74-97cf-1dd69f2503e4",
   "metadata": {},
   "outputs": [
    {
     "data": {
      "text/plain": [
       "['apple', 'banana', 'cherry', 1, 4, 5, 9]"
      ]
     },
     "execution_count": 121,
     "metadata": {},
     "output_type": "execute_result"
    }
   ],
   "source": [
    "fruits"
   ]
  },
  {
   "cell_type": "raw",
   "id": "560467a7-353e-4f00-992e-9d3f0a267daa",
   "metadata": {},
   "source": [
    "# example 2"
   ]
  },
  {
   "cell_type": "code",
   "execution_count": 123,
   "id": "b9ce7ebe-be43-4ccd-acd7-267afa3562ce",
   "metadata": {},
   "outputs": [],
   "source": [
    "name = ['prachi', 'shreya' , 'ram']"
   ]
  },
  {
   "cell_type": "code",
   "execution_count": 125,
   "id": "d40c8ae5-c42d-4f2b-907e-df963bfb3c0e",
   "metadata": {},
   "outputs": [
    {
     "data": {
      "text/plain": [
       "['prachi', 'shreya', 'ram']"
      ]
     },
     "execution_count": 125,
     "metadata": {},
     "output_type": "execute_result"
    }
   ],
   "source": [
    "name"
   ]
  },
  {
   "cell_type": "code",
   "execution_count": 127,
   "id": "38dba312-4a67-41c2-915b-14563dc15627",
   "metadata": {},
   "outputs": [],
   "source": [
    "points = (1,2,3,4)"
   ]
  },
  {
   "cell_type": "code",
   "execution_count": 129,
   "id": "54c0e481-0d0e-477e-b6c6-7a5f20ad222d",
   "metadata": {},
   "outputs": [
    {
     "data": {
      "text/plain": [
       "(1, 2, 3, 4)"
      ]
     },
     "execution_count": 129,
     "metadata": {},
     "output_type": "execute_result"
    }
   ],
   "source": [
    "points"
   ]
  },
  {
   "cell_type": "code",
   "execution_count": 131,
   "id": "4e3cf905-3973-44bf-bb34-0561ed225ef5",
   "metadata": {},
   "outputs": [],
   "source": [
    "name.extend(points)"
   ]
  },
  {
   "cell_type": "code",
   "execution_count": 133,
   "id": "3b750d9d-6036-499a-b684-acc464bc7d83",
   "metadata": {},
   "outputs": [
    {
     "data": {
      "text/plain": [
       "['prachi', 'shreya', 'ram', 1, 2, 3, 4]"
      ]
     },
     "execution_count": 133,
     "metadata": {},
     "output_type": "execute_result"
    }
   ],
   "source": [
    "name"
   ]
  },
  {
   "cell_type": "raw",
   "id": "98ea984d-83e8-4092-8d7a-9ca49a2e2239",
   "metadata": {},
   "source": [
    "# example "
   ]
  },
  {
   "cell_type": "code",
   "execution_count": 146,
   "id": "827ce04b-114b-4bc9-a162-a401ddb134c1",
   "metadata": {},
   "outputs": [],
   "source": [
    "fruit = ['apple', 'banana', 'cherry']"
   ]
  },
  {
   "cell_type": "code",
   "execution_count": 148,
   "id": "2f9eeb9b-029e-4c1b-969f-b22ea941940e",
   "metadata": {},
   "outputs": [
    {
     "data": {
      "text/plain": [
       "['apple', 'banana', 'cherry']"
      ]
     },
     "execution_count": 148,
     "metadata": {},
     "output_type": "execute_result"
    }
   ],
   "source": [
    "fruit"
   ]
  },
  {
   "cell_type": "code",
   "execution_count": 150,
   "id": "64b04532-8ee9-45f4-8bd5-c5748838b04d",
   "metadata": {},
   "outputs": [],
   "source": [
    "cars = ['Ford', 'BMW', 'Volvo']"
   ]
  },
  {
   "cell_type": "code",
   "execution_count": 152,
   "id": "34d03e58-7f46-4770-a5a6-0650a4e536c6",
   "metadata": {},
   "outputs": [
    {
     "data": {
      "text/plain": [
       "['Ford', 'BMW', 'Volvo']"
      ]
     },
     "execution_count": 152,
     "metadata": {},
     "output_type": "execute_result"
    }
   ],
   "source": [
    "cars"
   ]
  },
  {
   "cell_type": "code",
   "execution_count": 154,
   "id": "96a2a254-6d9b-401e-9507-b44683a302a9",
   "metadata": {},
   "outputs": [],
   "source": [
    "fruit.extend(cars)"
   ]
  },
  {
   "cell_type": "code",
   "execution_count": 156,
   "id": "69cc9648-940d-4203-bbe0-73e0e754cd97",
   "metadata": {},
   "outputs": [
    {
     "data": {
      "text/plain": [
       "['apple', 'banana', 'cherry', 'Ford', 'BMW', 'Volvo']"
      ]
     },
     "execution_count": 156,
     "metadata": {},
     "output_type": "execute_result"
    }
   ],
   "source": [
    "fruit"
   ]
  },
  {
   "cell_type": "code",
   "execution_count": null,
   "id": "7131ad15-e620-4ea5-8a4e-cecf714e3ae8",
   "metadata": {},
   "outputs": [],
   "source": []
  },
  {
   "cell_type": "markdown",
   "id": "02b0ff35-5b2e-4dd0-8c19-75f85297ae5f",
   "metadata": {},
   "source": [
    "# (6) Python List index() Method\n",
    "* The index() method returns the position at the first occurrence of the specified value.\r",
    "* https://www.w3schools.com/python/ref_list_index.asp\n",
    "* syntax : list.index(elmnt)\n",
    "  \n",
    "\r\n"
   ]
  },
  {
   "cell_type": "raw",
   "id": "a0e7a199-4d7e-415b-a1cf-acf7c04aa96b",
   "metadata": {},
   "source": [
    "# example 1"
   ]
  },
  {
   "cell_type": "code",
   "execution_count": 2,
   "id": "14b61978-311a-4379-8d6e-d49ab730f1ad",
   "metadata": {},
   "outputs": [],
   "source": [
    "fruits = [4, 55, 64, 32, 16, 32]\n"
   ]
  },
  {
   "cell_type": "code",
   "execution_count": 4,
   "id": "3c6cdf58-cd95-481c-91a0-f511e9a86ec6",
   "metadata": {},
   "outputs": [
    {
     "data": {
      "text/plain": [
       "[4, 55, 64, 32, 16, 32]"
      ]
     },
     "execution_count": 4,
     "metadata": {},
     "output_type": "execute_result"
    }
   ],
   "source": [
    "fruits"
   ]
  },
  {
   "cell_type": "code",
   "execution_count": 6,
   "id": "9e133e42-dd79-490c-a08c-4006e912baef",
   "metadata": {},
   "outputs": [],
   "source": [
    "x = fruits.index(32)"
   ]
  },
  {
   "cell_type": "code",
   "execution_count": 10,
   "id": "67a2eb55-cc75-4fce-be15-92f0d7f97113",
   "metadata": {},
   "outputs": [
    {
     "data": {
      "text/plain": [
       "3"
      ]
     },
     "execution_count": 10,
     "metadata": {},
     "output_type": "execute_result"
    }
   ],
   "source": [
    "x"
   ]
  },
  {
   "cell_type": "raw",
   "id": "89b57028-3da6-4b85-a700-6669edd6a82f",
   "metadata": {},
   "source": [
    "# example 2"
   ]
  },
  {
   "cell_type": "code",
   "execution_count": 12,
   "id": "ef7b923b-bd87-4540-93c2-04f0c3199cfb",
   "metadata": {},
   "outputs": [],
   "source": [
    "fruits = ['apple', 'banana', 'cherry']\n"
   ]
  },
  {
   "cell_type": "code",
   "execution_count": 14,
   "id": "3474dd74-9d50-42b9-8ea4-d6e16ace7ef8",
   "metadata": {},
   "outputs": [
    {
     "data": {
      "text/plain": [
       "['apple', 'banana', 'cherry']"
      ]
     },
     "execution_count": 14,
     "metadata": {},
     "output_type": "execute_result"
    }
   ],
   "source": [
    "fruits"
   ]
  },
  {
   "cell_type": "code",
   "execution_count": 16,
   "id": "0ad80dd3-4f4c-4da2-8b8e-c26e0e39608f",
   "metadata": {},
   "outputs": [],
   "source": [
    "x = fruits.index(\"cherry\")"
   ]
  },
  {
   "cell_type": "code",
   "execution_count": 18,
   "id": "12d7539a-0746-4549-ac52-150cb8e7d098",
   "metadata": {},
   "outputs": [
    {
     "data": {
      "text/plain": [
       "2"
      ]
     },
     "execution_count": 18,
     "metadata": {},
     "output_type": "execute_result"
    }
   ],
   "source": [
    "x"
   ]
  },
  {
   "cell_type": "raw",
   "id": "c7050e50-c086-4b1e-85c6-2a658236507e",
   "metadata": {},
   "source": [
    "# example 3"
   ]
  },
  {
   "cell_type": "code",
   "execution_count": 20,
   "id": "9f5b2074-da5e-4cd0-a8c9-7e8edfd9bd17",
   "metadata": {},
   "outputs": [],
   "source": [
    "points = [1,3,5,8,9,7]"
   ]
  },
  {
   "cell_type": "code",
   "execution_count": 22,
   "id": "254d0145-a752-4642-ae6b-01bdceeb5b98",
   "metadata": {},
   "outputs": [
    {
     "data": {
      "text/plain": [
       "[1, 3, 5, 8, 9, 7]"
      ]
     },
     "execution_count": 22,
     "metadata": {},
     "output_type": "execute_result"
    }
   ],
   "source": [
    "points"
   ]
  },
  {
   "cell_type": "code",
   "execution_count": 24,
   "id": "3267db72-8024-440e-be57-8b5a57cdb102",
   "metadata": {},
   "outputs": [],
   "source": [
    "x = points.index(5)"
   ]
  },
  {
   "cell_type": "code",
   "execution_count": 26,
   "id": "2ffea89d-d2d9-4d94-ac41-9414f79d1fa4",
   "metadata": {},
   "outputs": [
    {
     "data": {
      "text/plain": [
       "2"
      ]
     },
     "execution_count": 26,
     "metadata": {},
     "output_type": "execute_result"
    }
   ],
   "source": [
    "x"
   ]
  },
  {
   "cell_type": "markdown",
   "id": "58ddb91f-f0d2-4614-ab3f-24c0b74dee42",
   "metadata": {},
   "source": []
  },
  {
   "cell_type": "markdown",
   "id": "3fba60c0-2d01-4ec2-a750-39db7b38706e",
   "metadata": {},
   "source": [
    "# (7) Python List insert() Method\n",
    "* The insert() method inserts the specified value at the specified position\n",
    "* https://www.w3schools.com/python/ref_list_insert.asp\n",
    "* Syntax : \n",
    "list.insert(pos, elmnt) \r\n",
    "\r\n"
   ]
  },
  {
   "cell_type": "raw",
   "id": "904841fa-1053-48d4-931c-4d721f1174c4",
   "metadata": {},
   "source": [
    "# example 1"
   ]
  },
  {
   "cell_type": "code",
   "execution_count": 31,
   "id": "6aa8bb88-6332-446a-8bd3-356cbb61d84a",
   "metadata": {},
   "outputs": [],
   "source": [
    "fruits = ['apple', 'banana', 'cherry']"
   ]
  },
  {
   "cell_type": "code",
   "execution_count": 34,
   "id": "67c6cf2c-972f-4c5b-b0a2-219822b2ed6e",
   "metadata": {},
   "outputs": [],
   "source": [
    "fruits.insert(1, \"orange\")"
   ]
  },
  {
   "cell_type": "code",
   "execution_count": 36,
   "id": "b8cd9b63-a7fb-4199-80fc-c524a1373894",
   "metadata": {},
   "outputs": [
    {
     "data": {
      "text/plain": [
       "['apple', 'orange', 'banana', 'cherry']"
      ]
     },
     "execution_count": 36,
     "metadata": {},
     "output_type": "execute_result"
    }
   ],
   "source": [
    "fruits"
   ]
  },
  {
   "cell_type": "raw",
   "id": "9529dc38-eb8e-498f-a150-52798b59215f",
   "metadata": {},
   "source": [
    "# example 2"
   ]
  },
  {
   "cell_type": "code",
   "execution_count": 42,
   "id": "7b3f7ed5-35ae-4562-9f1b-1e5fde210e78",
   "metadata": {},
   "outputs": [],
   "source": [
    "number = [2,3,6,7,8,9,1]"
   ]
  },
  {
   "cell_type": "code",
   "execution_count": 44,
   "id": "a5d5e1b5-ac35-4d7b-a514-ebfd21782375",
   "metadata": {},
   "outputs": [],
   "source": [
    "number.insert(3,10)"
   ]
  },
  {
   "cell_type": "code",
   "execution_count": 48,
   "id": "e82a6373-c99c-48e4-994e-1e76757765d0",
   "metadata": {},
   "outputs": [
    {
     "data": {
      "text/plain": [
       "[2, 3, 6, '10', 7, 8, 9, 1]"
      ]
     },
     "execution_count": 48,
     "metadata": {},
     "output_type": "execute_result"
    }
   ],
   "source": [
    "number"
   ]
  },
  {
   "cell_type": "code",
   "execution_count": null,
   "id": "5d503705-222b-4d59-8ce1-a9af9996a3d1",
   "metadata": {},
   "outputs": [],
   "source": []
  },
  {
   "cell_type": "markdown",
   "id": "d3c5d9e9-84a6-40a7-8d28-3842a653227a",
   "metadata": {},
   "source": [
    "# (8) Python List pop() Method\n",
    "* The pop() method removes the element at the specified position.\n",
    "* https://www.w3schools.com/python/ref_list_pop.asp\n",
    "* Syntax :   \n",
    "list.pop(pos)"
   ]
  },
  {
   "cell_type": "raw",
   "id": "99c0b95a-9173-461e-8f28-f4105d801d9d",
   "metadata": {},
   "source": [
    "# example 1"
   ]
  },
  {
   "cell_type": "code",
   "execution_count": 52,
   "id": "7108055c-6b38-4299-b342-6edb4831ccdb",
   "metadata": {},
   "outputs": [],
   "source": [
    "fruits = ['apple', 'banana', 'cherry']\n"
   ]
  },
  {
   "cell_type": "code",
   "execution_count": 54,
   "id": "6c1433d2-3e36-48a2-be61-382dfb650bce",
   "metadata": {},
   "outputs": [
    {
     "data": {
      "text/plain": [
       "['apple', 'banana', 'cherry']"
      ]
     },
     "execution_count": 54,
     "metadata": {},
     "output_type": "execute_result"
    }
   ],
   "source": [
    "fruits"
   ]
  },
  {
   "cell_type": "code",
   "execution_count": 57,
   "id": "e2a8e9a6-73ec-4ae0-8453-409b54b22c43",
   "metadata": {},
   "outputs": [
    {
     "data": {
      "text/plain": [
       "'banana'"
      ]
     },
     "execution_count": 57,
     "metadata": {},
     "output_type": "execute_result"
    }
   ],
   "source": [
    "fruits.pop(1)"
   ]
  },
  {
   "cell_type": "code",
   "execution_count": 59,
   "id": "448b55e8-23a3-4a7a-80ed-35004083caba",
   "metadata": {},
   "outputs": [
    {
     "data": {
      "text/plain": [
       "['apple', 'cherry']"
      ]
     },
     "execution_count": 59,
     "metadata": {},
     "output_type": "execute_result"
    }
   ],
   "source": [
    "fruits"
   ]
  },
  {
   "cell_type": "code",
   "execution_count": null,
   "id": "d6051a70-fdaa-4e5f-b2cc-2cac4526a1f0",
   "metadata": {},
   "outputs": [],
   "source": []
  },
  {
   "cell_type": "markdown",
   "id": "8a16b9d5-0e0f-4a03-9824-0c526a1a269f",
   "metadata": {},
   "source": [
    "# (9) Python List remove() Method\n",
    "* The remove() method removes the first occurrence of the element with the specified value.\n",
    "* https://www.w3schools.com/python/ref_list_remove.asp\n",
    "* syntax : list.remove(elmnt)\r\n",
    "\r\n"
   ]
  },
  {
   "cell_type": "raw",
   "id": "39106421-ad15-4f58-ad68-fff523d1cc80",
   "metadata": {},
   "source": [
    "# example 1"
   ]
  },
  {
   "cell_type": "code",
   "execution_count": 63,
   "id": "f1e55f53-b19f-4cb7-8aa7-f7492f019b12",
   "metadata": {},
   "outputs": [],
   "source": [
    "fruits = ['apple', 'banana', 'cherry']\n",
    "\n",
    "fruits.remove(\"banana\")"
   ]
  },
  {
   "cell_type": "code",
   "execution_count": 65,
   "id": "59b2b406-8e6c-4cb4-b176-514490a1b48e",
   "metadata": {},
   "outputs": [
    {
     "data": {
      "text/plain": [
       "['apple', 'cherry']"
      ]
     },
     "execution_count": 65,
     "metadata": {},
     "output_type": "execute_result"
    }
   ],
   "source": [
    "fruits"
   ]
  },
  {
   "cell_type": "raw",
   "id": "41ec9ebf-5d57-498c-a4f2-90adc95734c2",
   "metadata": {},
   "source": [
    "# example 2"
   ]
  },
  {
   "cell_type": "code",
   "execution_count": 67,
   "id": "2fc47d48-1982-4b72-bded-5f0638902573",
   "metadata": {},
   "outputs": [],
   "source": [
    "name = ['prachi' , 'ram', 'shyam']\n",
    "\n",
    "name.remove(\"ram\")"
   ]
  },
  {
   "cell_type": "code",
   "execution_count": 69,
   "id": "d51e49a4-53ff-4441-a3f1-328f80d1b549",
   "metadata": {},
   "outputs": [
    {
     "data": {
      "text/plain": [
       "['prachi', 'shyam']"
      ]
     },
     "execution_count": 69,
     "metadata": {},
     "output_type": "execute_result"
    }
   ],
   "source": [
    "name"
   ]
  },
  {
   "cell_type": "code",
   "execution_count": null,
   "id": "7cd37136-a234-4b36-a77d-70d668b699fd",
   "metadata": {},
   "outputs": [],
   "source": []
  },
  {
   "cell_type": "markdown",
   "id": "737ff519-1528-4457-b8b5-469af3c5e5de",
   "metadata": {},
   "source": [
    "# (10) Python List reverse() Method\n",
    "* The reverse() method reverses the sorting order of the elements.\n",
    "* https://www.w3schools.com/python/ref_list_reverse.asp\n",
    "* Syntax :   list.reverse ()\r",
    "  )"
   ]
  },
  {
   "cell_type": "raw",
   "id": "3cdb4053-4219-49ed-87b3-ea237641fc23",
   "metadata": {},
   "source": [
    "* example 1"
   ]
  },
  {
   "cell_type": "code",
   "execution_count": 4,
   "id": "98f43af6-bfe1-4ae2-884e-8d8e31b820a4",
   "metadata": {},
   "outputs": [],
   "source": [
    "fruits = ['apple', 'banana', 'cherry']\n",
    "\n",
    "fruits.reverse()\n",
    "\n"
   ]
  },
  {
   "cell_type": "code",
   "execution_count": 6,
   "id": "48c9aa8d-845e-4514-b201-8030340783f9",
   "metadata": {},
   "outputs": [
    {
     "data": {
      "text/plain": [
       "['cherry', 'banana', 'apple']"
      ]
     },
     "execution_count": 6,
     "metadata": {},
     "output_type": "execute_result"
    }
   ],
   "source": [
    "fruits"
   ]
  },
  {
   "cell_type": "raw",
   "id": "606ef6b6-63e3-4301-b21c-eee96e5cabd1",
   "metadata": {},
   "source": [
    "* example 2"
   ]
  },
  {
   "cell_type": "code",
   "execution_count": 8,
   "id": "5fec4ddd-caef-41a2-b891-a5084f1e0672",
   "metadata": {},
   "outputs": [],
   "source": [
    "points = [1,4,6,3,7,8,9]\n",
    "\n",
    "points.reverse()"
   ]
  },
  {
   "cell_type": "code",
   "execution_count": 10,
   "id": "3b8b358f-1a1a-4b4a-81c9-7f4329dcf0b1",
   "metadata": {},
   "outputs": [
    {
     "data": {
      "text/plain": [
       "[9, 8, 7, 3, 6, 4, 1]"
      ]
     },
     "execution_count": 10,
     "metadata": {},
     "output_type": "execute_result"
    }
   ],
   "source": [
    "points"
   ]
  },
  {
   "cell_type": "code",
   "execution_count": null,
   "id": "03e112af-3b65-47d8-afa0-c9584ad82141",
   "metadata": {},
   "outputs": [],
   "source": []
  },
  {
   "cell_type": "markdown",
   "id": "4f2eb399-00c0-4903-a93c-b5162c64d3db",
   "metadata": {},
   "source": [
    "# (11) Python List sort() Method\n",
    "* The sort() method sorts the list ascending by default.\n",
    "* https://www.w3schools.com/python/ref_list_sort.asp\n",
    "* Syntax : list.sort(reverse=True|False, key=myFunc)()\r\n"
   ]
  },
  {
   "cell_type": "raw",
   "id": "f0bef736-0d9d-47d2-a9a1-8438611f2087",
   "metadata": {},
   "source": [
    "* example 1"
   ]
  },
  {
   "cell_type": "code",
   "execution_count": 13,
   "id": "2c503e4a-1d80-4307-bfcf-93056dee6e8f",
   "metadata": {},
   "outputs": [],
   "source": [
    "cars = ['Ford', 'BMW', 'Volvo']\n",
    "\n",
    "cars.sort()"
   ]
  },
  {
   "cell_type": "code",
   "execution_count": 15,
   "id": "815e412d-5ae6-4d90-beb3-b6f84d2981e5",
   "metadata": {},
   "outputs": [
    {
     "data": {
      "text/plain": [
       "['BMW', 'Ford', 'Volvo']"
      ]
     },
     "execution_count": 15,
     "metadata": {},
     "output_type": "execute_result"
    }
   ],
   "source": [
    "cars"
   ]
  },
  {
   "cell_type": "code",
   "execution_count": 17,
   "id": "b96f80c6-5530-4ee5-8a89-b65fbe1856a3",
   "metadata": {},
   "outputs": [],
   "source": [
    "points = [3,5,24,6,78,23]\n",
    "\n",
    "points.sort()"
   ]
  },
  {
   "cell_type": "code",
   "execution_count": 19,
   "id": "095fdc2c-84fc-4f69-b44e-e24217d607ea",
   "metadata": {},
   "outputs": [
    {
     "data": {
      "text/plain": [
       "[3, 5, 6, 23, 24, 78]"
      ]
     },
     "execution_count": 19,
     "metadata": {},
     "output_type": "execute_result"
    }
   ],
   "source": [
    "points"
   ]
  },
  {
   "cell_type": "code",
   "execution_count": null,
   "id": "f2d16c9d-08e9-4cc0-905f-f648b914875e",
   "metadata": {},
   "outputs": [],
   "source": []
  }
 ],
 "metadata": {
  "kernelspec": {
   "display_name": "Python 3 (ipykernel)",
   "language": "python",
   "name": "python3"
  },
  "language_info": {
   "codemirror_mode": {
    "name": "ipython",
    "version": 3
   },
   "file_extension": ".py",
   "mimetype": "text/x-python",
   "name": "python",
   "nbconvert_exporter": "python",
   "pygments_lexer": "ipython3",
   "version": "3.12.4"
  }
 },
 "nbformat": 4,
 "nbformat_minor": 5
}
